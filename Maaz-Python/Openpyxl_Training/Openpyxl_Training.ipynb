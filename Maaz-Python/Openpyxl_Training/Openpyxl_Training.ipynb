{
 "cells": [
  {
   "cell_type": "code",
   "execution_count": null,
   "id": "ff9bc4ad",
   "metadata": {},
   "outputs": [],
   "source": [
    "import openpyxl\n",
    "import pandas as pd\n",
    "import requests\n",
    "import numpy as np"
   ]
  },
  {
   "cell_type": "code",
   "execution_count": null,
   "id": "1ea4f0e6",
   "metadata": {},
   "outputs": [],
   "source": [
    "def Generate_PCM_Marks(numbers):\n",
    "    names = []\n",
    "    genders = []\n",
    "    for person in requests.get(\n",
    "        f\"https://randomuser.me/api/?results={numbers}&nat=IN\"\n",
    "    ).json()[\"results\"]:\n",
    "        names.append(person[\"name\"][\"first\"])\n",
    "        genders.append(person[\"gender\"].capitalize())\n",
    "\n",
    "    # Sn = n/2(2a + (n-1)d); 1 = 40/2(39d); d = 1 / 20 / 39;\n",
    "    prob = np.array([np.sin(np.radians(i * 2 / 90 * 40)) for i in range(0, 40)])\n",
    "\n",
    "    Physics_marks = np.random.choice(\n",
    "        np.arange(10, 50),\n",
    "        # p=[i / 20 / 39 for i in range(0, 40)],\n",
    "        p=[prob[i] / prob.sum() for i in range(0, len(prob))],\n",
    "        size=numbers,\n",
    "        replace=True,\n",
    "    )\n",
    "\n",
    "    prob = np.array([np.sin(np.radians(i * 2 / 90 * 35)) for i in range(0, 35)])\n",
    "\n",
    "    Chemistry_marks = np.random.choice(\n",
    "        np.arange(15, 50),\n",
    "        # p=[i / 35 / 17 for i in range(0, 35)],\n",
    "        p=[prob[i] / prob.sum() for i in range(0, len(prob))],\n",
    "        size=numbers,\n",
    "        replace=True,\n",
    "    )\n",
    "\n",
    "    prob = np.array([np.sin(np.radians(i * 2 / 90 * 90)) for i in range(0, 90)])\n",
    "\n",
    "    Maths_marks = np.random.choice(\n",
    "        np.arange(10, 100),\n",
    "        # p=[i / 45 / 89 for i in range(0, 90)],\n",
    "        p=[prob[i] / prob.sum() for i in range(0, len(prob))],\n",
    "        size=numbers,\n",
    "        replace=True,\n",
    "    )\n",
    "\n",
    "    data_table = pd.DataFrame(\n",
    "        {\n",
    "            \"Name\": names,\n",
    "            \"Gender\": genders,\n",
    "            \"Physics\": Physics_marks,\n",
    "            \"Chemistry\": Chemistry_marks,\n",
    "            \"Maths\": Maths_marks,\n",
    "            \"Total\": pd.Series(\n",
    "                [\n",
    "                    Physics_marks[i] + Chemistry_marks[i] + Maths_marks[i]\n",
    "                    for i in range(0, numbers)\n",
    "                ]\n",
    "            ),\n",
    "        }\n",
    "    )\n",
    "\n",
    "    print(data_table)\n",
    "    return data_table"
   ]
  },
  {
   "cell_type": "markdown",
   "id": "675d016f",
   "metadata": {},
   "source": [
    "Creating an Openpyxl Workbook and saving it"
   ]
  },
  {
   "cell_type": "code",
   "execution_count": null,
   "id": "7c9b8b0a",
   "metadata": {},
   "outputs": [],
   "source": [
    "work_book = None\n",
    "try:\n",
    "    work_book = openpyxl.load_workbook(\n",
    "        \"C:\\\\Users\\\\Admin\\\\AppData\\\\Local\\\\Temp\\\\Dattebayo.xlsx\"\n",
    "    )\n",
    "except:\n",
    "    work_book = openpyxl.Workbook()\n",
    "    print(\"Created new workbook, Dattebayo!!!\")\n",
    "\n",
    "work_sheet = work_book.active\n",
    "if not work_sheet:\n",
    "    work_sheet = work_book.create_sheet(\"Intermediate Dattebayo!!!\")\n",
    "elif work_sheet.title != \"Intermediate Dattebayo!!!\":\n",
    "    work_sheet.title = \"Intermediate Dattebayo!!!\"\n",
    "    print(\"Renamed the sheet to: Intermediate Dattebayo!!!\")\n",
    "\n",
    "work_book.save(\"C:\\\\Users\\\\Admin\\\\AppData\\\\Local\\\\Temp\\\\Dattebayo.xlsx\")"
   ]
  },
  {
   "cell_type": "markdown",
   "id": "2b1b1529",
   "metadata": {},
   "source": [
    "Manipulating Sheets"
   ]
  },
  {
   "cell_type": "code",
   "execution_count": null,
   "id": "2922fa7e",
   "metadata": {},
   "outputs": [],
   "source": [
    "# Creating a new sheet\n",
    "work_book.create_sheet(\"Dattebayo!!!\")\n",
    "work_sheet = work_book[\"Dattebayo!!!\"]\n",
    "print(\"All the Workbook Sheets: \", work_book.sheetnames)\n",
    "\n",
    "# Removing a sheet\n",
    "if \"Intermediate Dattebayo!!!\" in work_book.sheetnames:\n",
    "    work_book.remove(work_book[\"Intermediate Dattebayo!!!\"])\n",
    "    print(\"Removed the sheet: Intermediate Dattebayo!!!\")\n",
    "\n",
    "print(\n",
    "    \"Workbook sheets after removing Intermediate Dattebayo!!!: \", work_book.sheetnames\n",
    ")"
   ]
  },
  {
   "cell_type": "markdown",
   "id": "ea60e495",
   "metadata": {},
   "source": [
    "Cell Read / Write, Iteration and Append"
   ]
  },
  {
   "cell_type": "code",
   "execution_count": null,
   "id": "d5f6a72e",
   "metadata": {},
   "outputs": [],
   "source": [
    "work_sheet[\"A1\"] = \"Dattebayo\"\n",
    "work_sheet[\"B1\"] = \"!!!\"\n",
    "\n",
    "work_sheet.append([\"Here\", \"we\", \"start!\"])\n",
    "\n",
    "print(\"\\n\")\n",
    "\n",
    "# Iteration\n",
    "for i in work_sheet.iter_rows(min_row=1, max_row=2, min_col=1, max_col=5):\n",
    "    for cell in i:\n",
    "        print(cell.value, end=\" | \")\n",
    "    print(\"\")\n",
    "\n",
    "work_sheet.append([1, 32, 43, 754])"
   ]
  },
  {
   "cell_type": "markdown",
   "id": "41213462",
   "metadata": {},
   "source": [
    "Cell Styles / Formatting"
   ]
  },
  {
   "cell_type": "code",
   "execution_count": null,
   "id": "4563b43f",
   "metadata": {},
   "outputs": [],
   "source": [
    "for i in work_sheet.iter_rows(min_row=1, max_row=3, min_col=1, max_col=5):\n",
    "    for cell in i:\n",
    "        cell.font = openpyxl.styles.Font(bold=True, color=\"00af00\")\n",
    "        cell.fill = openpyxl.styles.PatternFill()\n",
    "        cell.alignment = openpyxl.styles.Alignment(\n",
    "            horizontal=\"center\", vertical=\"center\"\n",
    "        )\n",
    "        cell.border = openpyxl.styles.Border(\n",
    "            left=openpyxl.styles.Side(style=\"thick\"),\n",
    "            right=openpyxl.styles.Side(style=\"thick\"),\n",
    "            top=openpyxl.styles.Side(style=\"thick\"),\n",
    "            bottom=openpyxl.styles.Side(style=\"thick\"),\n",
    "        )\n",
    "        # print(cell.value, end=\" | \")\n",
    "    print(\"\")"
   ]
  },
  {
   "cell_type": "markdown",
   "id": "8dca0dc6",
   "metadata": {},
   "source": [
    "Implementing Formulas"
   ]
  },
  {
   "cell_type": "code",
   "execution_count": null,
   "id": "2804b2dd",
   "metadata": {},
   "outputs": [],
   "source": [
    "work_sheet[\"A4\"] = \"=SUM(A3:D3)\""
   ]
  },
  {
   "cell_type": "markdown",
   "id": "8f935a3a",
   "metadata": {},
   "source": [
    "Merge Cells and Freeze"
   ]
  },
  {
   "cell_type": "code",
   "execution_count": null,
   "id": "bd4f9bc7",
   "metadata": {},
   "outputs": [],
   "source": [
    "work_sheet.merge_cells(\"C1:E1\")\n",
    "work_sheet.merge_cells(\"E2:E3\")\n",
    "\n",
    "work_sheet.merge_cells(\"A1:B1\")\n",
    "work_sheet[\"A1\"] = \"Dattebayo!!!\"\n",
    "\n",
    "work_sheet.freeze_panes = \"A2\""
   ]
  },
  {
   "cell_type": "markdown",
   "id": "5c2d109b",
   "metadata": {},
   "source": [
    "Insert and Delete Rows / Columns"
   ]
  },
  {
   "cell_type": "code",
   "execution_count": null,
   "id": "247875b6",
   "metadata": {},
   "outputs": [],
   "source": [
    "work_sheet.insert_rows(2)\n",
    "work_sheet.insert_cols(3)\n",
    "\n",
    "# Filling cells in temporary values\n",
    "work_sheet[\"E7\"] = \"New Value\"\n",
    "work_sheet[\"E8\"] = \"Another Value\"\n",
    "work_sheet[\"F7\"] = \"Temporary Value\"\n",
    "work_sheet[\"G5\"] = \"Temporary Value\"\n",
    "\n",
    "work_sheet.delete_rows(7)\n",
    "work_sheet.delete_rows(6)\n",
    "work_sheet.delete_cols(6)"
   ]
  },
  {
   "cell_type": "markdown",
   "id": "fa339a00",
   "metadata": {},
   "source": [
    "Inserting Charts"
   ]
  },
  {
   "cell_type": "code",
   "execution_count": null,
   "id": "fc5395e0",
   "metadata": {},
   "outputs": [],
   "source": [
    "# Values for chart\n",
    "chart_data = [\n",
    "    [\"Category\", \"Value\"],\n",
    "    [\"A\", 10],\n",
    "    [\"B\", 20],\n",
    "    [\"C\", 30],\n",
    "]\n",
    "for data in chart_data:\n",
    "    work_sheet.append(data)\n",
    "values = openpyxl.chart.Reference(\n",
    "    work_sheet, min_col=1, max_col=2, min_row=7, max_row=10\n",
    ")\n",
    "chart = openpyxl.chart.BarChart()\n",
    "chart.add_data(values, titles_from_data=True)\n",
    "chart.title = \"Bar Chart\"\n",
    "work_sheet.add_chart(chart, \"E5\")\n",
    "\n",
    "work_book.save(\"C:\\\\Users\\\\Admin\\\\AppData\\\\Local\\\\Temp\\\\Dattebayo.xlsx\")"
   ]
  },
  {
   "cell_type": "code",
   "execution_count": null,
   "id": "ee0e4ad2",
   "metadata": {},
   "outputs": [],
   "source": [
    "data_table = Generate_PCM_Marks(20)\n",
    "\n",
    "# with pd.ExcelWriter(\n",
    "#     \"C:\\\\Users\\\\Admin\\\\AppData\\\\Local\\\\Temp\\\\Dattebayo.xlsx\",\n",
    "#     engine=\"openpyxl\",\n",
    "#     mode=\"a\",\n",
    "#     if_sheet_exists=\"overlay\"  # Choose based on behavior you want\n",
    "# ) as writer:\n",
    "#     data_table.to_excel(\n",
    "#         writer,\n",
    "#         sheet_name=\"Dattebayo!!!\",\n",
    "#         startrow=writer.sheets[\"Dattebayo!!!\"].max_row,\n",
    "#         index=True\n",
    "#     )\n",
    "for i in range(12):\n",
    "    work_sheet.append([])\n",
    "\n",
    "work_sheet.append([\"\", \"Index\"] + data_table.columns.to_list())\n",
    "\n",
    "table_ref_start = [work_sheet.max_row, 2]\n",
    "\n",
    "for row in data_table.itertuples(index=True):\n",
    "    work_sheet.append([\"\"] + list(row))\n",
    "\n",
    "table_ref_end = [work_sheet.max_row, data_table.shape[1] + table_ref_start[1]]\n",
    "print(table_ref_start, table_ref_end)"
   ]
  },
  {
   "cell_type": "markdown",
   "id": "cf7ee365",
   "metadata": {},
   "source": [
    "Appending a Table into the Excel Sheet"
   ]
  },
  {
   "cell_type": "code",
   "execution_count": null,
   "id": "04a80e00",
   "metadata": {},
   "outputs": [],
   "source": [
    "table = openpyxl.worksheet.table.Table(\n",
    "    displayName=\"PCM_Marks\",\n",
    "    ref=f\"{openpyxl.utils.get_column_letter(table_ref_start[1])}{table_ref_start[0]}:{openpyxl.utils.get_column_letter(table_ref_end[1])}{table_ref_end[0]}\",\n",
    ")\n",
    "work_sheet.add_table(table)"
   ]
  },
  {
   "cell_type": "markdown",
   "id": "e0894f57",
   "metadata": {},
   "source": [
    "Styling the Excel Table"
   ]
  },
  {
   "cell_type": "code",
   "execution_count": null,
   "id": "0e94e3f4",
   "metadata": {},
   "outputs": [],
   "source": [
    "min_col, min_row, max_col, max_row = openpyxl.utils.range_boundaries(table.ref)\n",
    "header = True\n",
    "for row in work_sheet.iter_rows(\n",
    "    min_col=min_col, min_row=min_row, max_col=max_col, max_row=max_row\n",
    "):\n",
    "    if header:\n",
    "        for cell in row:\n",
    "            cell.fill = openpyxl.styles.PatternFill(\n",
    "                start_color=\"DDDDDD\", end_color=\"DDDDDD\", fill_type=\"solid\"\n",
    "            )\n",
    "            cell.font = openpyxl.styles.Font(\n",
    "                bold=True, italic=False, name=\"Sans-serif\", color=\"000000\"\n",
    "            )\n",
    "            cell.alignment = openpyxl.styles.Alignment(\n",
    "                horizontal=\"center\", vertical=\"center\"\n",
    "            )\n",
    "            cell.border = openpyxl.styles.Border(\n",
    "                left=openpyxl.styles.Side(style=\"thick\", color=\"000000\"),\n",
    "                right=openpyxl.styles.Side(style=\"thick\", color=\"000000\"),\n",
    "                top=openpyxl.styles.Side(style=\"thick\", color=\"000000\"),\n",
    "                bottom=openpyxl.styles.Side(style=\"thick\", color=\"000000\"),\n",
    "            )\n",
    "            work_sheet.row_dimensions[cell.row].height = 30\n",
    "            work_sheet.column_dimensions[cell.column_letter].width = 15\n",
    "        header = False\n",
    "    else:\n",
    "        for cell in row:\n",
    "            cell.fill = openpyxl.styles.PatternFill(\n",
    "                start_color=\"afaf00\", end_color=\"afaf00\", fill_type=\"solid\"\n",
    "            )\n",
    "            cell.font = openpyxl.styles.Font(\n",
    "                bold=False, italic=True, name=\"Sans-serif\", color=\"af0000\"\n",
    "            )\n",
    "            cell.alignment = openpyxl.styles.Alignment(\n",
    "                horizontal=\"center\", vertical=\"center\"\n",
    "            )\n",
    "            cell.border = openpyxl.styles.Border(\n",
    "                left=openpyxl.styles.Side(\n",
    "                    style=(\"thick\" if cell.column == min_col else \"thin\"),\n",
    "                    color=\"000000\",\n",
    "                ),\n",
    "                right=openpyxl.styles.Side(\n",
    "                    style=(\"thick\" if cell.column == max_col else \"thin\"),\n",
    "                    color=\"000000\",\n",
    "                ),\n",
    "                top=openpyxl.styles.Side(style=\"thin\", color=\"000000\"),\n",
    "                bottom=openpyxl.styles.Side(\n",
    "                    style=\"thick\" if cell.row == max_row else \"thin\", color=\"000000\"\n",
    "                ),\n",
    "            )"
   ]
  },
  {
   "cell_type": "markdown",
   "id": "089638fd",
   "metadata": {},
   "source": [
    "Gotta Save & Close the Workbook"
   ]
  },
  {
   "cell_type": "code",
   "execution_count": null,
   "id": "fceeedc5",
   "metadata": {},
   "outputs": [],
   "source": [
    "print(f\"The Worksheet has {work_sheet.max_column * work_sheet.max_row} cells in use.\")\n",
    "\n",
    "work_book.save(\"C:\\\\Users\\\\Admin\\\\AppData\\\\Local\\\\Temp\\\\Dattebayo.xlsx\")\n",
    "work_book.close()"
   ]
  }
 ],
 "metadata": {
  "kernelspec": {
   "display_name": "Python 3",
   "language": "python",
   "name": "python3"
  },
  "language_info": {
   "codemirror_mode": {
    "name": "ipython",
    "version": 3
   },
   "file_extension": ".py",
   "mimetype": "text/x-python",
   "name": "python",
   "nbconvert_exporter": "python",
   "pygments_lexer": "ipython3",
   "version": "3.10.11"
  }
 },
 "nbformat": 4,
 "nbformat_minor": 5
}
