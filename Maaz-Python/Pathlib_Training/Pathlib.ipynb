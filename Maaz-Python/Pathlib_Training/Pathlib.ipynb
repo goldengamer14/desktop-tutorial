{
 "cells": [
  {
   "cell_type": "code",
   "execution_count": null,
   "id": "0f344708",
   "metadata": {},
   "outputs": [],
   "source": [
    "from pathlib import Path\n",
    "import re"
   ]
  },
  {
   "cell_type": "markdown",
   "id": "83fd42ed",
   "metadata": {},
   "source": [
    "Storing a Path into variable"
   ]
  },
  {
   "cell_type": "code",
   "execution_count": null,
   "id": "4cbbc35e",
   "metadata": {},
   "outputs": [],
   "source": [
    "python_folder = Path(\".\")\n",
    "print(python_folder.resolve())"
   ]
  },
  {
   "cell_type": "markdown",
   "id": "33b63700",
   "metadata": {},
   "source": [
    "Joining Paths"
   ]
  },
  {
   "cell_type": "code",
   "execution_count": null,
   "id": "9e0d84bf",
   "metadata": {},
   "outputs": [],
   "source": [
    "file = python_folder / \"Pathlib.ipynb\"\n",
    "print(file.resolve())"
   ]
  },
  {
   "cell_type": "markdown",
   "id": "22f49890",
   "metadata": {},
   "source": [
    "Path properties"
   ]
  },
  {
   "cell_type": "code",
   "execution_count": null,
   "id": "5fe3c0bd",
   "metadata": {},
   "outputs": [],
   "source": [
    "print(file.resolve(), end=\"\")\n",
    "print(file.drive)\n",
    "print(file.name)\n",
    "print(file.stem)\n",
    "print(file.suffix)\n",
    "print(file.parent)\n",
    "print(file.parts)"
   ]
  },
  {
   "cell_type": "markdown",
   "id": "6dd38fe0",
   "metadata": {},
   "source": [
    "Checking file's existential status"
   ]
  },
  {
   "cell_type": "code",
   "execution_count": null,
   "id": "0e9261bc",
   "metadata": {},
   "outputs": [],
   "source": [
    "print(file.resolve(), \"exists? ->\", file.exists())\n",
    "print(file.resolve(), \"is a file? ->\", file.is_file())\n",
    "print(file.resolve(), \"is a dir? ->\", file.is_dir())\n",
    "print(python_folder.resolve(), \"exists? ->\", python_folder.exists())\n",
    "print(python_folder.resolve(), \"is a file? ->\", python_folder.is_file())\n",
    "print(python_folder.resolve(), \"is a dir? ->\", python_folder.is_dir())"
   ]
  },
  {
   "cell_type": "markdown",
   "id": "faae569f",
   "metadata": {},
   "source": [
    "Iterating over Directories"
   ]
  },
  {
   "cell_type": "code",
   "execution_count": null,
   "id": "30473144",
   "metadata": {},
   "outputs": [],
   "source": [
    "git_repo = Path(\"..\\\\..\\\\\")\n",
    "print(\"Directories in\", git_repo.resolve())\n",
    "for dir in git_repo.iterdir():\n",
    "    print(dir.name)\n",
    "\n",
    "print(\"\\n\")\n",
    "\n",
    "print(\"All directories in\", git_repo.resolve(), end=\"\\\\\\n\")\n",
    "for dir in git_repo.rglob(\"*\"):\n",
    "    if re.compile(\".git\").search(dir.resolve().as_posix()):\n",
    "        continue\n",
    "    if dir.is_dir():\n",
    "        print(dir.name)\n",
    "\n",
    "print(\"\\n\")\n",
    "\n",
    "print(\"Files in\", git_repo.resolve(), end=\"\\\\\\n\")\n",
    "for file in git_repo.glob(\"*\\\\*.*\"):\n",
    "    print(file.name)\n",
    "\n",
    "print(\"\\n\")\n",
    "\n",
    "print(\"All files in\", git_repo.resolve(), end=\"\\\\\\n\")\n",
    "for file in git_repo.rglob(\"*.*\"):\n",
    "    print(file.name)"
   ]
  },
  {
   "cell_type": "markdown",
   "id": "0e8b1fee",
   "metadata": {},
   "source": [
    "Create & Remove directories and files"
   ]
  },
  {
   "cell_type": "code",
   "execution_count": null,
   "id": "eb82a1ab",
   "metadata": {},
   "outputs": [],
   "source": [
    "new_dir = Path(\"C:\\\\Users\\\\Admin\\\\AppData\\\\Local\\\\Temp\\\\NewFolder\")\n",
    "new_dir.mkdir(parents=True, exist_ok=True)\n",
    "new_file = Path(\"C:\\\\Users\\\\Admin\\\\AppData\\\\Local\\\\Temp\\\\NewFolder\\\\new_file.txt\")\n",
    "new_file.touch(exist_ok=True)\n",
    "\n",
    "if new_dir and new_dir.is_dir():\n",
    "    print(\"New Directory Created----\", new_dir.exists(), \"---- at \", new_dir.resolve())\n",
    "\n",
    "if new_file and new_file.is_file():\n",
    "    print(\"new_file.txt exists----\", new_file.exists(), \"---- at \", new_file.resolve())\n",
    "    new_file.unlink(missing_ok=True)\n",
    "    print(\"new_file.txt deleted----\", not new_file.exists())\n",
    "\n",
    "if new_dir and new_dir.is_dir():\n",
    "    new_dir.rmdir()\n",
    "    print(\"new_dir deleted----\", not new_dir.exists())"
   ]
  },
  {
   "cell_type": "markdown",
   "id": "ebb05270",
   "metadata": {},
   "source": [
    "Reading and Writing files"
   ]
  },
  {
   "cell_type": "code",
   "execution_count": null,
   "id": "24451391",
   "metadata": {},
   "outputs": [],
   "source": [
    "string_file = git_repo / \"Maaz-Python\\\\Pathlib_Training\" / \"README.md\"\n",
    "\n",
    "if not file.is_file() and string_file.parent.is_dir():\n",
    "    string_file.touch(exist_ok=True)\n",
    "    print(\"Created new\", string_file.name, \"at\", string_file.parent.resolve())\n",
    "\n",
    "string_file.write_text(\n",
    "    \"Hello World!\\nThis is a test file created using Pathlib in Python.\\n\"\n",
    ")\n",
    "\n",
    "print(\n",
    "    \"The new file\",\n",
    "    string_file.name,\n",
    "    \"located at\",\n",
    "    string_file.parent.resolve(),\n",
    "    \"\\nWriting content:\\n\",\n",
    "    string_file.read_text(),\n",
    "    \"\\nin bytes form:\\n\",\n",
    "    string_file.read_bytes(),\n",
    "    end=\"\\n\\n\",\n",
    ")\n",
    "\n",
    "byte_file = string_file.parent / \"byte_file.bin\"\n",
    "\n",
    "if not byte_file.is_file() and byte_file.parent.is_dir():\n",
    "    byte_file.touch(exist_ok=True)\n",
    "    print(\"Created new\", byte_file.name, \"at\", byte_file.parent.resolve())\n",
    "\n",
    "byte_file.write_bytes(b\"\\x40\\x41\\x62\\x83\\x34\\x25\\x46\\x37\\x28\\x59\")\n",
    "\n",
    "print(\n",
    "    \"The file\",\n",
    "    byte_file.name,\n",
    "    \"located at\",\n",
    "    byte_file.parent.resolve(),\n",
    "    \"in bytes form:\\n\",\n",
    "    byte_file.read_bytes(),\n",
    "    \"in string form:\\n\",\n",
    "    byte_file.read_text(),\n",
    ")"
   ]
  },
  {
   "cell_type": "markdown",
   "id": "669d079e",
   "metadata": {},
   "source": [
    "Path Comparisons"
   ]
  },
  {
   "cell_type": "code",
   "execution_count": null,
   "id": "0c2bb32f",
   "metadata": {},
   "outputs": [],
   "source": [
    "p1 = Path(\"C:/Users/Admin/Documents\")\n",
    "p2 = Path(\"C:/Users/Admin/Documents/GTA San Andreas User Files\")\n",
    "print(p1 == p2, p1 > p2, p1 < p2, sep=\" | \")\n",
    "p1 = p1 / \"GTA San Andreas User Files\"\n",
    "print(p1 == p2, p1 > p2, p1 < p2, sep=\" | \")\n",
    "print(\"p1 = p2 =\", p1.resolve())"
   ]
  }
 ],
 "metadata": {
  "kernelspec": {
   "display_name": "Python 3",
   "language": "python",
   "name": "python3"
  },
  "language_info": {
   "codemirror_mode": {
    "name": "ipython",
    "version": 3
   },
   "file_extension": ".py",
   "mimetype": "text/x-python",
   "name": "python",
   "nbconvert_exporter": "python",
   "pygments_lexer": "ipython3",
   "version": "3.10.11"
  }
 },
 "nbformat": 4,
 "nbformat_minor": 5
}
