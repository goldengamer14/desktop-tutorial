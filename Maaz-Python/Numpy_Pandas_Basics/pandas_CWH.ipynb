{
 "cells": [
  {
   "cell_type": "code",
   "execution_count": null,
   "id": "549c0c2d",
   "metadata": {},
   "outputs": [],
   "source": [
    "import pandas as pd\n",
    "import numpy as np\n",
    "\n",
    "alphs = \"abcdefghijklmnopqrstuvwxyz\""
   ]
  },
  {
   "cell_type": "code",
   "execution_count": null,
   "id": "ecafb695",
   "metadata": {},
   "outputs": [],
   "source": [
    "series = pd.Series([1, 2, 3, 4, 5], index=[alphs[i] for i in range(5)])\n",
    "print(series)"
   ]
  },
  {
   "cell_type": "code",
   "execution_count": null,
   "id": "e07e8c0a",
   "metadata": {},
   "outputs": [],
   "source": [
    "series = pd.Series({\"name\": \"Maaz\", \"age\": 20, \"city\": \"Shegaon\", \"country\": \"India\"})\n",
    "print(series)"
   ]
  },
  {
   "cell_type": "code",
   "execution_count": null,
   "id": "69a07069",
   "metadata": {},
   "outputs": [],
   "source": [
    "probs = np.array([np.sin(np.radians(i * 2 / 90 * 52)) for i in np.arange(0, 53)])\n",
    "mark_arr = [\n",
    "    x\n",
    "    for x in np.random.choice(\n",
    "        np.arange(45, 98),\n",
    "        p=[probs[i] / probs.sum() for i in range(0, len(probs))],\n",
    "        size=3,\n",
    "    )\n",
    "]\n",
    "mark_arr.append(98.74)\n",
    "mark_arr = mark_arr[::-1]\n",
    "marks = pd.DataFrame(\n",
    "    {\"name\": [\"Maaz\", \"Vaishnavi\", \"Rahul\", \"Zain\"], \"marks\": mark_arr}\n",
    ")\n",
    "print(marks)"
   ]
  },
  {
   "cell_type": "markdown",
   "id": "0c27e868",
   "metadata": {},
   "source": [
    "Reading Data from .csv/.xlsx files"
   ]
  },
  {
   "cell_type": "code",
   "execution_count": null,
   "id": "6b4c81b5",
   "metadata": {},
   "outputs": [],
   "source": [
    "read_csv_data = pd.read_csv(\"..\\\\Data_Generator\\\\Generated_Data.csv\")\n",
    "read_csv_data.sort_values(by=\"Total\", ascending=False, axis=0, inplace=True)\n",
    "read_csv_data.set_index(\n",
    "    keys=np.arange(read_csv_data[\"Total\"].size, dtype=int), inplace=True\n",
    ")\n",
    "print(\"Generated_Data.csv:\\n\", read_csv_data, \"\\n\")\n",
    "\n",
    "read_excel_data = pd.read_excel(\"..\\\\Data_Generator\\\\Generated_Data.xlsx\")\n",
    "read_excel_data.sort_values(by=\"Total\", ascending=False, inplace=True)\n",
    "read_excel_data.set_index(\n",
    "    keys=np.arange(read_excel_data[\"Total\"].size, dtype=int), inplace=True\n",
    ")\n",
    "print(\"Generated_Data.csv:\\n\", read_excel_data, \"\\n\")"
   ]
  },
  {
   "cell_type": "code",
   "execution_count": null,
   "id": "4e785a5e",
   "metadata": {},
   "outputs": [],
   "source": [
    "print(read_csv_data.describe(), \"\\n\")\n",
    "print(read_excel_data.describe(), \"\\n\")\n",
    "\n",
    "print(read_csv_data.info(), \"\\n\")\n",
    "print(read_excel_data.info(), \"\\n\")\n",
    "\n",
    "print(read_csv_data.head(5), \"\\n\")\n",
    "print(read_excel_data.head(5), \"\\n\")\n",
    "\n",
    "print(read_csv_data.tail(5), \"\\n\")\n",
    "print(read_excel_data.tail(5), \"\\n\")"
   ]
  },
  {
   "cell_type": "code",
   "execution_count": null,
   "id": "de772c8e",
   "metadata": {},
   "outputs": [],
   "source": [
    "print(read_csv_data.iloc[np.random.randint(0, read_csv_data[\"Name\"].size)], \"\\n\")\n",
    "print(read_excel_data.iloc[np.random.randint(0, read_excel_data[\"Name\"].size)], \"\\n\")"
   ]
  },
  {
   "cell_type": "markdown",
   "id": "aae63418",
   "metadata": {},
   "source": [
    "Writing Sorted Data back to .csv/.xlsx files"
   ]
  },
  {
   "cell_type": "code",
   "execution_count": null,
   "id": "2af81f6c",
   "metadata": {},
   "outputs": [],
   "source": [
    "read_csv_data.to_csv(\"..\\\\Data_Generator\\\\Generated_Data.csv\")\n",
    "read_excel_data.to_excel(\"..\\\\Data_Generator\\\\Generated_Data.xlsx\")"
   ]
  }
 ],
 "metadata": {
  "kernelspec": {
   "display_name": "Python 3",
   "language": "python",
   "name": "python3"
  },
  "language_info": {
   "codemirror_mode": {
    "name": "ipython",
    "version": 3
   },
   "file_extension": ".py",
   "mimetype": "text/x-python",
   "name": "python",
   "nbconvert_exporter": "python",
   "pygments_lexer": "ipython3",
   "version": "3.10.11"
  }
 },
 "nbformat": 4,
 "nbformat_minor": 5
}
