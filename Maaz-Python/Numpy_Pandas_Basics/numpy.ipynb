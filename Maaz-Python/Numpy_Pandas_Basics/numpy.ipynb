{
 "cells": [
  {
   "cell_type": "code",
   "execution_count": null,
   "id": "5c4bad91",
   "metadata": {},
   "outputs": [],
   "source": [
    "import numpy as np"
   ]
  },
  {
   "cell_type": "code",
   "execution_count": null,
   "id": "2e113ac9",
   "metadata": {},
   "outputs": [],
   "source": [
    "# Creating a numpy array\n",
    "np_array = np.array([1, 2, 3, 4, 5])\n",
    "print(np_array)"
   ]
  },
  {
   "cell_type": "code",
   "execution_count": null,
   "id": "01646882",
   "metadata": {},
   "outputs": [],
   "source": [
    "# Creating a numpy matrix\n",
    "np_matrix = np.array([[1, 2, 3, 4, 5], [10, 20, 30, 40, 50]])\n",
    "print(np_matrix)"
   ]
  },
  {
   "cell_type": "code",
   "execution_count": null,
   "id": "5bb56cec",
   "metadata": {},
   "outputs": [],
   "source": [
    "# Creating a zero numpy matrix\n",
    "np_zeros = np.zeros((3, 2))\n",
    "print(np_zeros)"
   ]
  },
  {
   "cell_type": "code",
   "execution_count": null,
   "id": "6cf916f6",
   "metadata": {},
   "outputs": [],
   "source": [
    "# Creating a full numpy matrix\n",
    "np_full = np.full((3, 4), 5)\n",
    "print(np_full)"
   ]
  },
  {
   "cell_type": "code",
   "execution_count": null,
   "id": "e9665e8c",
   "metadata": {},
   "outputs": [],
   "source": [
    "# Creating a diagonal set numpy matrix\n",
    "np_diagonal= np.eye(4)\n",
    "print(np_diagonal)"
   ]
  },
  {
   "cell_type": "code",
   "execution_count": null,
   "id": "fe65eedc",
   "metadata": {},
   "outputs": [],
   "source": [
    "# Creating a ranged numpy array\n",
    "np_arange = np.arange(10, 51)\n",
    "print(np_arange)\n",
    "np_arange_step = np.arange(10, 51, 5)\n",
    "print(np_arange_step)"
   ]
  },
  {
   "cell_type": "code",
   "execution_count": null,
   "id": "7c95ac98",
   "metadata": {},
   "outputs": [],
   "source": [
    "# Creating a random-filled numpy array\n",
    "np_random = np.random.randint(0, 101, 10)\n",
    "print(np_random)"
   ]
  },
  {
   "cell_type": "code",
   "execution_count": null,
   "id": "3e956295",
   "metadata": {},
   "outputs": [],
   "source": [
    "# Figuring out the shape of a numpy matrix\n",
    "print(np_zeros.shape)\n",
    "print(np_full.shape)\n",
    "# print(np_arange.shape) # Won't work with single-dimensional arrays"
   ]
  },
  {
   "cell_type": "code",
   "execution_count": null,
   "id": "52ad8f13",
   "metadata": {},
   "outputs": [],
   "source": [
    "# Stacking two numpy arrays\n",
    "np_stack_1 = [1, 2, 3, 4]\n",
    "np_stack_2 = [10, 20, 30, 40]\n",
    "print(\"vstack:\\n\", np.vstack((np_stack_1, np_stack_2)), \"\\n\")\n",
    "print(\"hstack:\\n\", np.hstack((np_stack_1, np_stack_2)), \"\\n\")\n",
    "print(\"stack:\\n\", np.stack((np_stack_1, np_stack_2)), \"\\n\")\n",
    "print(\"column_stack:\\n\", np.column_stack((np_stack_1, np_stack_2)), \"\\n\")"
   ]
  },
  {
   "cell_type": "code",
   "execution_count": null,
   "id": "dd19ab3d",
   "metadata": {},
   "outputs": [],
   "source": [
    "# Intersection and Difference in numpy arrays\n",
    "np_inters_diffs_1 = np.array([10, 20, 30, 40, 50, 60])\n",
    "np_inters_diffs_2 = np.array([50, 60, 70, 80, 90, 100])\n",
    "print(\"intersection: \", np.intersect1d(np_inters_diffs_1, np_inters_diffs_2))\n",
    "print(\"difference(1 - 2): \", np.setdiff1d(np_inters_diffs_1, np_inters_diffs_2))\n",
    "print(\n",
    "    \"difference(2 - 1): \",\n",
    "    np.setdiff1d(\n",
    "        np_inters_diffs_2,\n",
    "        np_inters_diffs_1,\n",
    "    ),\n",
    ")"
   ]
  },
  {
   "cell_type": "code",
   "execution_count": null,
   "id": "ba2bd275",
   "metadata": {},
   "outputs": [],
   "source": [
    "# Summing up two numpy arrays\n",
    "np_sum_1 = np.array([20, 40, 50])\n",
    "np_sum_2 = np.array([70, 80, 50])\n",
    "print(\"Sum all value: \", np.sum([np_sum_1, np_sum_2]))\n",
    "print(\"Add elements of each array: \", np.sum([np_sum_1, np_sum_2], axis=0))\n",
    "print(\"Add all elements of array: \", np.sum([np_sum_1, np_sum_2], axis=1))"
   ]
  },
  {
   "cell_type": "code",
   "execution_count": null,
   "id": "fdb664ce",
   "metadata": {},
   "outputs": [],
   "source": [
    "# Mathematical operations on a numpy array\n",
    "print(\"np_array: \", np_array)\n",
    "print(\"np_array + 100: \", np_array + 100)\n",
    "print(\"np_array - 60: \", np_array - 60)\n",
    "print(\"np_array * 4: \", np_array * 4)\n",
    "print(\"np_array / 2: \", np_array / 2)\n",
    "print(\"np_array % 2: \", np_array % 2)"
   ]
  },
  {
   "cell_type": "code",
   "execution_count": null,
   "id": "f9f68499",
   "metadata": {},
   "outputs": [],
   "source": [
    "# Mathematical functions on a numpy \n",
    "np_math_funcs = np.array([10, 48, 23, 9, 45, 61])\n",
    "print(\"np_math_funcs: \", np_math_funcs)\n",
    "print(\"mean: \", np.mean(np_math_funcs))\n",
    "print(\"median: \", np.median(np_math_funcs))\n",
    "print(\"Standard Deviation: \", np.std(np_math_funcs))"
   ]
  },
  {
   "cell_type": "code",
   "execution_count": null,
   "id": "1e1e8781",
   "metadata": {},
   "outputs": [],
   "source": [
    "# Saving and loading numpy array\n",
    "np_store = np.arange(10, 34, 3)\n",
    "np.save(\"C:\\\\Users\\\\Admin\\\\AppData\\\\Local\\\\Temp\\\\np_store_array\", np_store)\n",
    "print(np.load(\"C:\\\\Users\\\\Admin\\\\AppData\\\\Local\\\\Temp\\\\np_store_array.npy\"))"
   ]
  }
 ],
 "metadata": {
  "kernelspec": {
   "display_name": "Python 3",
   "language": "python",
   "name": "python3"
  },
  "language_info": {
   "codemirror_mode": {
    "name": "ipython",
    "version": 3
   },
   "file_extension": ".py",
   "mimetype": "text/x-python",
   "name": "python",
   "nbconvert_exporter": "python",
   "pygments_lexer": "ipython3",
   "version": "3.10.11"
  }
 },
 "nbformat": 4,
 "nbformat_minor": 5
}
