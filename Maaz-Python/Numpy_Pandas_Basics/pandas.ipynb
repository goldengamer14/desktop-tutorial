{
 "cells": [
  {
   "cell_type": "code",
   "execution_count": null,
   "id": "fa1ef0c7",
   "metadata": {},
   "outputs": [],
   "source": [
    "import pandas as pd\n",
    "import numpy as np"
   ]
  },
  {
   "cell_type": "code",
   "execution_count": null,
   "id": "a665c297",
   "metadata": {},
   "outputs": [],
   "source": [
    "# Creating a pandas series\n",
    "pd_series = pd.Series([x for x in range(4, 49, 4) if x % 3 == 0 or x % 5 == 0])\n",
    "print(\"pd_series:\\n\", pd_series, \"\\ntype:\", type(pd_series))"
   ]
  },
  {
   "cell_type": "code",
   "execution_count": null,
   "id": "9c542b13",
   "metadata": {},
   "outputs": [],
   "source": [
    "# Indexing the pandas series with alphabets\n",
    "pd_series = pd.Series([x for x in pd_series], index = [x for x in \"abcdef\"])\n",
    "print(\"\\npd_series:\\n\", pd_series, \"\\ntype:\", type(pd_series))"
   ]
  },
  {
   "cell_type": "code",
   "execution_count": null,
   "id": "8ad3cc68",
   "metadata": {},
   "outputs": [],
   "source": [
    "# Passing indeices and values of pandas series as objects\n",
    "pd_series_objects = pd.Series({'a': 843, 'k': 9310, 'x': 372, 'q': 6729}, index = ['k', 'q', 'x', 'a'])\n",
    "print(\"\\npd_series_objects:\\n\", pd_series_objects, \"\\ntype:\", type(pd_series_objects))"
   ]
  },
  {
   "cell_type": "code",
   "execution_count": null,
   "id": "59d4c064",
   "metadata": {},
   "outputs": [],
   "source": [
    "# Extracting elements from pandas series\n",
    "pd_extract = pd.Series(np.random.randint(0, 101, 10))\n",
    "print(\"index 3:\", pd_extract[3])\n",
    "print(\"\\n4 from start:\\n\", pd_extract[:4])\n",
    "print(\"\\n3 from end:\\n\", pd_extract[-3:])"
   ]
  },
  {
   "cell_type": "code",
   "execution_count": null,
   "id": "15319944",
   "metadata": {},
   "outputs": [],
   "source": [
    "# Mathematical operations on a pandas series\n",
    "pd_math = pd.Series([x * 2 for x in pd_series], index=[x for x in \"abcdef\"])\n",
    "print(\"pd_math + 12:\\n\", pd_math + 12)\n",
    "print(\"\\npd_math - 2:\\n\", pd_math - 2)\n",
    "print(\"\\npd_math * 3:\\n\", pd_math * 3)\n",
    "print(\"\\npd_math / 4\\n\", pd_math / 4)\n",
    "print(\"\\npd_series + pd_math\\n\", pd_series + pd_math) # And the rest operators too"
   ]
  },
  {
   "cell_type": "code",
   "execution_count": null,
   "id": "476b1777",
   "metadata": {},
   "outputs": [],
   "source": [
    "# Intersection and set difference in pandas series\n",
    "# print(\"pd_math:\\n\", pd_math, \"pd_series:\\n\", pd_series)\n",
    "print(\n",
    "    \"\\npd_math & pd_series\", pd_math[pd_math.isin(pd_series)]\n",
    ")  # Or the revers, it'll be same\n",
    "print(\"\\npd_math - pd_series\", pd_math[~pd_math.isin(pd_series)])\n",
    "print(\"\\npd_series - pd_math\", pd_series[~pd_series.isin(pd_math)])\n",
    "# The \"isin\" function returns the intersection and \"~\" operator works as a not"
   ]
  },
  {
   "cell_type": "code",
   "execution_count": null,
   "id": "e1e322c0",
   "metadata": {},
   "outputs": [],
   "source": [
    "# Creating a pandas data frame\n",
    "pd_data_frame = pd.DataFrame({\"Name\": [\"Martin\", \"Pintu\", \"Wasim\", \"Mary\"], \"Marks\": [38, 87, 73, 92], \"Status\": [\"F\", \"P\", \"P\", \"P\"]})\n",
    "print(pd_data_frame)"
   ]
  },
  {
   "cell_type": "code",
   "execution_count": null,
   "id": "9d289944",
   "metadata": {},
   "outputs": [],
   "source": [
    "# Conversion of numpy array/matrix into pandas data frame\n",
    "pd_data_frame_np = pd.DataFrame(\n",
    "    np.random.randint(0, 101, 25).reshape(5, 5), columns=[x for x in \"abcde\"]\n",
    ")\n",
    "\n",
    "print(\"pd_data_frame:\\n\", pd_data_frame_np)"
   ]
  },
  {
   "cell_type": "code",
   "execution_count": null,
   "id": "3381ae34",
   "metadata": {},
   "outputs": [],
   "source": [
    "# Extracting head and tail & displaying shape and description of pandas data frame\n",
    "print(\"head(3):\\n\", pd_data_frame_np.head(3))\n",
    "print(\"\\ntail(2):\\n\", pd_data_frame_np.tail(2))\n",
    "print(\"\\nshape(): \", pd_data_frame_np.shape)\n",
    "print(\"\\ndescribe():\\n\", pd_data_frame_np.describe())"
   ]
  },
  {
   "cell_type": "code",
   "execution_count": null,
   "id": "0fc2fae7",
   "metadata": {},
   "outputs": [],
   "source": [
    "# Extracting sets of rows and columns of pandas data frame\n",
    "print(\n",
    "    \"iloc(1:4, 0:2): \\n\", pd_data_frame_np.iloc[1:4, 0:2]\n",
    ")  # rows 1 to 3, columns 0 to 2\n",
    "print(\n",
    "    \"\\nloc(1:4, (0, 1, 2)): \\n\", pd_data_frame_np.loc[1:4, (\"c\", \"d\", \"e\")]\n",
    ")  # rows 1 to 3, columns 0 to 2"
   ]
  },
  {
   "cell_type": "code",
   "execution_count": null,
   "id": "d0424162",
   "metadata": {},
   "outputs": [],
   "source": [
    "# Dropping a row or column in pandas frame\n",
    "print('drop([\"c\"], axis = 1):\\n', pd_data_frame_np.drop([\"c\"], axis=1))\n",
    "print(\"\\ndrop([2, 4], axis = 0):\\n\", pd_data_frame_np.drop([2, 4], axis=0))"
   ]
  },
  {
   "cell_type": "code",
   "execution_count": null,
   "id": "46341aee",
   "metadata": {},
   "outputs": [],
   "source": [
    "# Mathematical functions in pandas data frame\n",
    "print(\"\\nmean:\\n\", pd_data_frame_np.mean())\n",
    "print(\"\\nmedian:\\n\", pd_data_frame_np.median())\n",
    "print(\"\\nstd:\\n\", pd_data_frame_np.std())\n",
    "print(\"\\nmin:\\n\", pd_data_frame_np.min())\n",
    "print(\"\\nmax:\\n\", pd_data_frame_np.max())"
   ]
  },
  {
   "cell_type": "code",
   "execution_count": null,
   "id": "d047aeb3",
   "metadata": {},
   "outputs": [],
   "source": [
    "def evenity(s):\n",
    "    return s % 2 == 0\n",
    "\n",
    "\n",
    "def oddity(s):\n",
    "    return s % 2 != 0"
   ]
  },
  {
   "cell_type": "code",
   "execution_count": null,
   "id": "0d80a1a4",
   "metadata": {},
   "outputs": [],
   "source": [
    "# Applying a function to specific columns of pandas data frame\n",
    "print(pd_data_frame_np[[\"c\", \"d\"]].apply(oddity))"
   ]
  },
  {
   "cell_type": "code",
   "execution_count": null,
   "id": "6e6f5dc9",
   "metadata": {},
   "outputs": [],
   "source": [
    "# Finding value count in a column of pandas data frame\n",
    "print(pd_data_frame_np[\"a\"].value_counts(sort=False))"
   ]
  },
  {
   "cell_type": "code",
   "execution_count": null,
   "id": "421132e8",
   "metadata": {},
   "outputs": [],
   "source": [
    "# Sorting values in a column of pandas data frame\n",
    "print(pd_data_frame_np.sort_values(by=[x for x in \"abcde\"], ascending=False))"
   ]
  }
 ],
 "metadata": {
  "kernelspec": {
   "display_name": "Python 3",
   "language": "python",
   "name": "python3"
  },
  "language_info": {
   "codemirror_mode": {
    "name": "ipython",
    "version": 3
   },
   "file_extension": ".py",
   "mimetype": "text/x-python",
   "name": "python",
   "nbconvert_exporter": "python",
   "pygments_lexer": "ipython3",
   "version": "3.10.11"
  }
 },
 "nbformat": 4,
 "nbformat_minor": 5
}
